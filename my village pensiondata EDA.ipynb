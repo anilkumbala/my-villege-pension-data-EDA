{
 "cells": [
  {
   "cell_type": "code",
   "execution_count": 1,
   "metadata": {},
   "outputs": [],
   "source": [
    "import pandas as pd\n",
    "import numpy as np\n",
    "import matplotlib.pyplot as plt\n",
    "%matplotlib inline"
   ]
  },
  {
   "cell_type": "code",
   "execution_count": 2,
   "metadata": {},
   "outputs": [],
   "source": [
    "pension=pd.read_csv(\"pensiondata.csv\")"
   ]
  },
  {
   "cell_type": "code",
   "execution_count": 6,
   "metadata": {},
   "outputs": [
    {
     "data": {
      "text/html": [
       "<div>\n",
       "<style scoped>\n",
       "    .dataframe tbody tr th:only-of-type {\n",
       "        vertical-align: middle;\n",
       "    }\n",
       "\n",
       "    .dataframe tbody tr th {\n",
       "        vertical-align: top;\n",
       "    }\n",
       "\n",
       "    .dataframe thead th {\n",
       "        text-align: right;\n",
       "    }\n",
       "</style>\n",
       "<table border=\"1\" class=\"dataframe\">\n",
       "  <thead>\n",
       "    <tr style=\"text-align: right;\">\n",
       "      <th></th>\n",
       "      <th>S.No</th>\n",
       "      <th>Live Pensioner</th>\n",
       "      <th>GP Name</th>\n",
       "      <th>Pensioner Name</th>\n",
       "      <th>Sur Name</th>\n",
       "      <th>Father Husband Name</th>\n",
       "      <th>Type of Pension</th>\n",
       "      <th>Pension Amount</th>\n",
       "      <th>Sanctioned Month</th>\n",
       "      <th>Age</th>\n",
       "      <th>Gender</th>\n",
       "      <th>Disability</th>\n",
       "      <th>Remarks</th>\n",
       "    </tr>\n",
       "  </thead>\n",
       "  <tbody>\n",
       "    <tr>\n",
       "      <th>0</th>\n",
       "      <td>1</td>\n",
       "      <td>Yes</td>\n",
       "      <td>Arepally</td>\n",
       "      <td>lasmavva</td>\n",
       "      <td>darshanala</td>\n",
       "      <td>lasmavva</td>\n",
       "      <td>O.A.P</td>\n",
       "      <td>2016</td>\n",
       "      <td>NaN</td>\n",
       "      <td>73</td>\n",
       "      <td>FEMALE</td>\n",
       "      <td>NaN</td>\n",
       "      <td>NaN</td>\n",
       "    </tr>\n",
       "    <tr>\n",
       "      <th>1</th>\n",
       "      <td>2</td>\n",
       "      <td>Yes</td>\n",
       "      <td>Arepally</td>\n",
       "      <td>narayana</td>\n",
       "      <td>jillapelli</td>\n",
       "      <td>narayana</td>\n",
       "      <td>O.A.P</td>\n",
       "      <td>2016</td>\n",
       "      <td>NaN</td>\n",
       "      <td>66</td>\n",
       "      <td>MALE</td>\n",
       "      <td>NaN</td>\n",
       "      <td>NaN</td>\n",
       "    </tr>\n",
       "    <tr>\n",
       "      <th>2</th>\n",
       "      <td>3</td>\n",
       "      <td>Yes</td>\n",
       "      <td>Arepally</td>\n",
       "      <td>venkati</td>\n",
       "      <td>kumbala</td>\n",
       "      <td>Narsaiah</td>\n",
       "      <td>O.A.P</td>\n",
       "      <td>2016</td>\n",
       "      <td>NaN</td>\n",
       "      <td>67</td>\n",
       "      <td>MALE</td>\n",
       "      <td>NaN</td>\n",
       "      <td>NaN</td>\n",
       "    </tr>\n",
       "    <tr>\n",
       "      <th>3</th>\n",
       "      <td>4</td>\n",
       "      <td>Yes</td>\n",
       "      <td>Arepally</td>\n",
       "      <td>lachaiah</td>\n",
       "      <td>jella</td>\n",
       "      <td>Poshamallu</td>\n",
       "      <td>O.A.P</td>\n",
       "      <td>2016</td>\n",
       "      <td>NaN</td>\n",
       "      <td>70</td>\n",
       "      <td>MALE</td>\n",
       "      <td>NaN</td>\n",
       "      <td>NaN</td>\n",
       "    </tr>\n",
       "    <tr>\n",
       "      <th>4</th>\n",
       "      <td>5</td>\n",
       "      <td>Yes</td>\n",
       "      <td>Arepally</td>\n",
       "      <td>mallayya</td>\n",
       "      <td>boosa</td>\n",
       "      <td>Rayamallu</td>\n",
       "      <td>O.A.P</td>\n",
       "      <td>2016</td>\n",
       "      <td>NaN</td>\n",
       "      <td>69</td>\n",
       "      <td>MALE</td>\n",
       "      <td>NaN</td>\n",
       "      <td>NaN</td>\n",
       "    </tr>\n",
       "  </tbody>\n",
       "</table>\n",
       "</div>"
      ],
      "text/plain": [
       "   S.No Live Pensioner   GP Name Pensioner Name    Sur Name  \\\n",
       "0     1            Yes  Arepally       lasmavva  darshanala   \n",
       "1     2            Yes  Arepally       narayana  jillapelli   \n",
       "2     3            Yes  Arepally        venkati     kumbala   \n",
       "3     4            Yes  Arepally       lachaiah       jella   \n",
       "4     5            Yes  Arepally       mallayya       boosa   \n",
       "\n",
       "  Father Husband Name Type of Pension  Pension Amount  Sanctioned Month  Age  \\\n",
       "0            lasmavva           O.A.P            2016               NaN   73   \n",
       "1            narayana           O.A.P            2016               NaN   66   \n",
       "2            Narsaiah           O.A.P            2016               NaN   67   \n",
       "3          Poshamallu           O.A.P            2016               NaN   70   \n",
       "4           Rayamallu           O.A.P            2016               NaN   69   \n",
       "\n",
       "   Gender  Disability  Remarks  \n",
       "0  FEMALE          NaN     NaN  \n",
       "1    MALE          NaN     NaN  \n",
       "2    MALE          NaN     NaN  \n",
       "3    MALE          NaN     NaN  \n",
       "4    MALE          NaN     NaN  "
      ]
     },
     "execution_count": 6,
     "metadata": {},
     "output_type": "execute_result"
    }
   ],
   "source": [
    "pension.head()"
   ]
  },
  {
   "cell_type": "code",
   "execution_count": 4,
   "metadata": {},
   "outputs": [
    {
     "data": {
      "text/html": [
       "<div>\n",
       "<style scoped>\n",
       "    .dataframe tbody tr th:only-of-type {\n",
       "        vertical-align: middle;\n",
       "    }\n",
       "\n",
       "    .dataframe tbody tr th {\n",
       "        vertical-align: top;\n",
       "    }\n",
       "\n",
       "    .dataframe thead th {\n",
       "        text-align: right;\n",
       "    }\n",
       "</style>\n",
       "<table border=\"1\" class=\"dataframe\">\n",
       "  <thead>\n",
       "    <tr style=\"text-align: right;\">\n",
       "      <th></th>\n",
       "      <th>S.No</th>\n",
       "      <th>Live Pensioner</th>\n",
       "      <th>GP Name</th>\n",
       "      <th>Pensioner Name</th>\n",
       "      <th>Sur Name</th>\n",
       "      <th>Father Husband Name</th>\n",
       "      <th>Type of Pension</th>\n",
       "      <th>Pension Amount</th>\n",
       "      <th>Sanctioned Month</th>\n",
       "      <th>Age</th>\n",
       "      <th>Gender</th>\n",
       "      <th>Disability</th>\n",
       "      <th>Remarks</th>\n",
       "    </tr>\n",
       "  </thead>\n",
       "  <tbody>\n",
       "    <tr>\n",
       "      <th>453</th>\n",
       "      <td>455</td>\n",
       "      <td>Yes</td>\n",
       "      <td>Arepally</td>\n",
       "      <td>raaya narsu</td>\n",
       "      <td>kumbala</td>\n",
       "      <td>raaya narsu</td>\n",
       "      <td>O.A.P</td>\n",
       "      <td>2016</td>\n",
       "      <td>201809.0</td>\n",
       "      <td>66</td>\n",
       "      <td>MALE</td>\n",
       "      <td>NaN</td>\n",
       "      <td>NaN</td>\n",
       "    </tr>\n",
       "    <tr>\n",
       "      <th>454</th>\n",
       "      <td>456</td>\n",
       "      <td>Yes</td>\n",
       "      <td>Arepally</td>\n",
       "      <td>mallavva</td>\n",
       "      <td>banuka</td>\n",
       "      <td>mallavva</td>\n",
       "      <td>FA to Single Women Married</td>\n",
       "      <td>2016</td>\n",
       "      <td>201812.0</td>\n",
       "      <td>30</td>\n",
       "      <td>FEMALE</td>\n",
       "      <td>NaN</td>\n",
       "      <td>NaN</td>\n",
       "    </tr>\n",
       "    <tr>\n",
       "      <th>455</th>\n",
       "      <td>457</td>\n",
       "      <td>Yes</td>\n",
       "      <td>Arepally</td>\n",
       "      <td>shantha</td>\n",
       "      <td>bandra</td>\n",
       "      <td>shantha</td>\n",
       "      <td>O.A.P</td>\n",
       "      <td>2016</td>\n",
       "      <td>201812.0</td>\n",
       "      <td>65</td>\n",
       "      <td>FEMALE</td>\n",
       "      <td>NaN</td>\n",
       "      <td>NaN</td>\n",
       "    </tr>\n",
       "    <tr>\n",
       "      <th>456</th>\n",
       "      <td>458</td>\n",
       "      <td>No</td>\n",
       "      <td>Arepally</td>\n",
       "      <td>pushpala</td>\n",
       "      <td>kumbala</td>\n",
       "      <td>arjayya</td>\n",
       "      <td>O.A.P</td>\n",
       "      <td>2016</td>\n",
       "      <td>NaN</td>\n",
       "      <td>66</td>\n",
       "      <td>FEMALE</td>\n",
       "      <td>NaN</td>\n",
       "      <td>Ineligible</td>\n",
       "    </tr>\n",
       "    <tr>\n",
       "      <th>457</th>\n",
       "      <td>459</td>\n",
       "      <td>Yes</td>\n",
       "      <td>Arepally</td>\n",
       "      <td>amrutha</td>\n",
       "      <td>bandra</td>\n",
       "      <td>amrutha</td>\n",
       "      <td>O.A.P</td>\n",
       "      <td>2016</td>\n",
       "      <td>NaN</td>\n",
       "      <td>66</td>\n",
       "      <td>FEMALE</td>\n",
       "      <td>NaN</td>\n",
       "      <td>NaN</td>\n",
       "    </tr>\n",
       "  </tbody>\n",
       "</table>\n",
       "</div>"
      ],
      "text/plain": [
       "     S.No Live Pensioner   GP Name Pensioner Name Sur Name  \\\n",
       "453   455            Yes  Arepally    raaya narsu  kumbala   \n",
       "454   456            Yes  Arepally       mallavva   banuka   \n",
       "455   457            Yes  Arepally        shantha   bandra   \n",
       "456   458             No  Arepally       pushpala  kumbala   \n",
       "457   459            Yes  Arepally        amrutha   bandra   \n",
       "\n",
       "    Father Husband Name             Type of Pension  Pension Amount  \\\n",
       "453         raaya narsu                       O.A.P            2016   \n",
       "454            mallavva  FA to Single Women Married            2016   \n",
       "455             shantha                       O.A.P            2016   \n",
       "456             arjayya                       O.A.P            2016   \n",
       "457             amrutha                       O.A.P            2016   \n",
       "\n",
       "     Sanctioned Month  Age  Gender  Disability      Remarks  \n",
       "453          201809.0   66    MALE          NaN         NaN  \n",
       "454          201812.0   30  FEMALE          NaN         NaN  \n",
       "455          201812.0   65  FEMALE          NaN         NaN  \n",
       "456               NaN   66  FEMALE          NaN  Ineligible  \n",
       "457               NaN   66  FEMALE          NaN         NaN  "
      ]
     },
     "execution_count": 4,
     "metadata": {},
     "output_type": "execute_result"
    }
   ],
   "source": [
    "pension.tail()"
   ]
  },
  {
   "cell_type": "code",
   "execution_count": 8,
   "metadata": {},
   "outputs": [
    {
     "data": {
      "text/html": [
       "<div>\n",
       "<style scoped>\n",
       "    .dataframe tbody tr th:only-of-type {\n",
       "        vertical-align: middle;\n",
       "    }\n",
       "\n",
       "    .dataframe tbody tr th {\n",
       "        vertical-align: top;\n",
       "    }\n",
       "\n",
       "    .dataframe thead th {\n",
       "        text-align: right;\n",
       "    }\n",
       "</style>\n",
       "<table border=\"1\" class=\"dataframe\">\n",
       "  <thead>\n",
       "    <tr style=\"text-align: right;\">\n",
       "      <th></th>\n",
       "      <th>S.No</th>\n",
       "      <th>Pension Amount</th>\n",
       "      <th>Sanctioned Month</th>\n",
       "      <th>Age</th>\n",
       "      <th>Disability</th>\n",
       "    </tr>\n",
       "  </thead>\n",
       "  <tbody>\n",
       "    <tr>\n",
       "      <th>count</th>\n",
       "      <td>458.000000</td>\n",
       "      <td>458.000000</td>\n",
       "      <td>416.000000</td>\n",
       "      <td>458.000000</td>\n",
       "      <td>216.000000</td>\n",
       "    </tr>\n",
       "    <tr>\n",
       "      <th>mean</th>\n",
       "      <td>230.458515</td>\n",
       "      <td>2131.720524</td>\n",
       "      <td>201520.495192</td>\n",
       "      <td>49.980349</td>\n",
       "      <td>17.777778</td>\n",
       "    </tr>\n",
       "    <tr>\n",
       "      <th>std</th>\n",
       "      <td>132.426551</td>\n",
       "      <td>320.239285</td>\n",
       "      <td>140.711086</td>\n",
       "      <td>18.860470</td>\n",
       "      <td>32.233114</td>\n",
       "    </tr>\n",
       "    <tr>\n",
       "      <th>min</th>\n",
       "      <td>1.000000</td>\n",
       "      <td>2016.000000</td>\n",
       "      <td>201411.000000</td>\n",
       "      <td>3.000000</td>\n",
       "      <td>0.000000</td>\n",
       "    </tr>\n",
       "    <tr>\n",
       "      <th>25%</th>\n",
       "      <td>116.250000</td>\n",
       "      <td>2016.000000</td>\n",
       "      <td>201411.000000</td>\n",
       "      <td>32.000000</td>\n",
       "      <td>0.000000</td>\n",
       "    </tr>\n",
       "    <tr>\n",
       "      <th>50%</th>\n",
       "      <td>230.500000</td>\n",
       "      <td>2016.000000</td>\n",
       "      <td>201503.000000</td>\n",
       "      <td>50.500000</td>\n",
       "      <td>0.000000</td>\n",
       "    </tr>\n",
       "    <tr>\n",
       "      <th>75%</th>\n",
       "      <td>344.750000</td>\n",
       "      <td>2016.000000</td>\n",
       "      <td>201508.000000</td>\n",
       "      <td>66.000000</td>\n",
       "      <td>10.000000</td>\n",
       "    </tr>\n",
       "    <tr>\n",
       "      <th>max</th>\n",
       "      <td>459.000000</td>\n",
       "      <td>3016.000000</td>\n",
       "      <td>201812.000000</td>\n",
       "      <td>99.000000</td>\n",
       "      <td>100.000000</td>\n",
       "    </tr>\n",
       "  </tbody>\n",
       "</table>\n",
       "</div>"
      ],
      "text/plain": [
       "             S.No  Pension Amount  Sanctioned Month         Age  Disability \n",
       "count  458.000000      458.000000        416.000000  458.000000   216.000000\n",
       "mean   230.458515     2131.720524     201520.495192   49.980349    17.777778\n",
       "std    132.426551      320.239285        140.711086   18.860470    32.233114\n",
       "min      1.000000     2016.000000     201411.000000    3.000000     0.000000\n",
       "25%    116.250000     2016.000000     201411.000000   32.000000     0.000000\n",
       "50%    230.500000     2016.000000     201503.000000   50.500000     0.000000\n",
       "75%    344.750000     2016.000000     201508.000000   66.000000    10.000000\n",
       "max    459.000000     3016.000000     201812.000000   99.000000   100.000000"
      ]
     },
     "execution_count": 8,
     "metadata": {},
     "output_type": "execute_result"
    }
   ],
   "source": [
    "pension.describe()"
   ]
  },
  {
   "cell_type": "code",
   "execution_count": 23,
   "metadata": {},
   "outputs": [
    {
     "data": {
      "text/plain": [
       "976328"
      ]
     },
     "execution_count": 23,
     "metadata": {},
     "output_type": "execute_result"
    }
   ],
   "source": [
    "pension['Pension Amount'].sum()"
   ]
  },
  {
   "cell_type": "code",
   "execution_count": 35,
   "metadata": {},
   "outputs": [
    {
     "data": {
      "text/plain": [
       "11715936"
      ]
     },
     "execution_count": 35,
     "metadata": {},
     "output_type": "execute_result"
    }
   ],
   "source": [
    "YearlyTotal= 12*pension['Pension Amount'].sum()\n",
    "YearlyTotal"
   ]
  },
  {
   "cell_type": "code",
   "execution_count": 28,
   "metadata": {},
   "outputs": [
    {
     "data": {
      "text/plain": [
       "Yes    359\n",
       "No      99\n",
       "Name: Live Pensioner, dtype: int64"
      ]
     },
     "execution_count": 28,
     "metadata": {},
     "output_type": "execute_result"
    },
    {
     "data": {
      "image/png": "[encoded data removed]",
      "text/plain": [
       "<Figure size 432x288 with 1 Axes>"
      ]
     },
     "metadata": {
      "needs_background": "light"
     },
     "output_type": "display_data"
    }
   ],
   "source": [
    "pd.value_counts(pension['Live Pensioner']).plot.bar()\n",
    "pd.value_counts(pension['Live Pensioner'])"
   ]
  },
  {
   "cell_type": "code",
   "execution_count": 26,
   "metadata": {},
   "outputs": [
    {
     "data": {
      "text/plain": [
       "FEMALE    322\n",
       "MALE      136\n",
       "Name: Gender, dtype: int64"
      ]
     },
     "execution_count": 26,
     "metadata": {},
     "output_type": "execute_result"
    },
    {
     "data": {
      "image/png": "[encoded data removed]",
      "text/plain": [
       "<Figure size 432x288 with 1 Axes>"
      ]
     },
     "metadata": {
      "needs_background": "light"
     },
     "output_type": "display_data"
    }
   ],
   "source": [
    "pd.value_counts(pension['Gender']).plot.bar()\n",
    "pd.value_counts(pension['Gender'])"
   ]
  },
  {
   "cell_type": "code",
   "execution_count": 32,
   "metadata": {},
   "outputs": [
    {
     "data": {
      "text/html": [
       "<div>\n",
       "<style scoped>\n",
       "    .dataframe tbody tr th:only-of-type {\n",
       "        vertical-align: middle;\n",
       "    }\n",
       "\n",
       "    .dataframe tbody tr th {\n",
       "        vertical-align: top;\n",
       "    }\n",
       "\n",
       "    .dataframe thead th {\n",
       "        text-align: right;\n",
       "    }\n",
       "</style>\n",
       "<table border=\"1\" class=\"dataframe\">\n",
       "  <thead>\n",
       "    <tr style=\"text-align: right;\">\n",
       "      <th></th>\n",
       "      <th></th>\n",
       "      <th>S.No</th>\n",
       "      <th>Pension Amount</th>\n",
       "      <th>Sanctioned Month</th>\n",
       "      <th>Age</th>\n",
       "      <th>Disability</th>\n",
       "    </tr>\n",
       "    <tr>\n",
       "      <th>Live Pensioner</th>\n",
       "      <th>Gender</th>\n",
       "      <th></th>\n",
       "      <th></th>\n",
       "      <th></th>\n",
       "      <th></th>\n",
       "      <th></th>\n",
       "    </tr>\n",
       "  </thead>\n",
       "  <tbody>\n",
       "    <tr>\n",
       "      <th rowspan=\"2\" valign=\"top\">No</th>\n",
       "      <th>FEMALE</th>\n",
       "      <td>18058</td>\n",
       "      <td>140072</td>\n",
       "      <td>7253236.0</td>\n",
       "      <td>3260</td>\n",
       "      <td>376.0</td>\n",
       "    </tr>\n",
       "    <tr>\n",
       "      <th>MALE</th>\n",
       "      <td>7885</td>\n",
       "      <td>73512</td>\n",
       "      <td>5845057.0</td>\n",
       "      <td>2100</td>\n",
       "      <td>446.0</td>\n",
       "    </tr>\n",
       "    <tr>\n",
       "      <th rowspan=\"2\" valign=\"top\">Yes</th>\n",
       "      <th>FEMALE</th>\n",
       "      <td>56391</td>\n",
       "      <td>532080</td>\n",
       "      <td>50579378.0</td>\n",
       "      <td>11248</td>\n",
       "      <td>1345.0</td>\n",
       "    </tr>\n",
       "    <tr>\n",
       "      <th>MALE</th>\n",
       "      <td>23216</td>\n",
       "      <td>230664</td>\n",
       "      <td>20154855.0</td>\n",
       "      <td>6283</td>\n",
       "      <td>1673.0</td>\n",
       "    </tr>\n",
       "  </tbody>\n",
       "</table>\n",
       "</div>"
      ],
      "text/plain": [
       "                        S.No  Pension Amount  Sanctioned Month    Age  \\\n",
       "Live Pensioner Gender                                                   \n",
       "No             FEMALE  18058          140072         7253236.0   3260   \n",
       "               MALE     7885           73512         5845057.0   2100   \n",
       "Yes            FEMALE  56391          532080        50579378.0  11248   \n",
       "               MALE    23216          230664        20154855.0   6283   \n",
       "\n",
       "                       Disability   \n",
       "Live Pensioner Gender               \n",
       "No             FEMALE        376.0  \n",
       "               MALE          446.0  \n",
       "Yes            FEMALE       1345.0  \n",
       "               MALE         1673.0  "
      ]
     },
     "execution_count": 32,
     "metadata": {},
     "output_type": "execute_result"
    }
   ],
   "source": [
    "s=pension.groupby(['Live Pensioner','Gender']).sum()\n",
    "s"
   ]
  },
  {
   "cell_type": "code",
   "execution_count": 33,
   "metadata": {},
   "outputs": [
    {
     "data": {
      "text/html": [
       "<div>\n",
       "<style scoped>\n",
       "    .dataframe tbody tr th:only-of-type {\n",
       "        vertical-align: middle;\n",
       "    }\n",
       "\n",
       "    .dataframe tbody tr th {\n",
       "        vertical-align: top;\n",
       "    }\n",
       "\n",
       "    .dataframe thead th {\n",
       "        text-align: right;\n",
       "    }\n",
       "</style>\n",
       "<table border=\"1\" class=\"dataframe\">\n",
       "  <thead>\n",
       "    <tr style=\"text-align: right;\">\n",
       "      <th></th>\n",
       "      <th></th>\n",
       "      <th>S.No</th>\n",
       "      <th>Pension Amount</th>\n",
       "      <th>Sanctioned Month</th>\n",
       "      <th>Age</th>\n",
       "      <th>Disability</th>\n",
       "    </tr>\n",
       "    <tr>\n",
       "      <th>Live Pensioner</th>\n",
       "      <th>Gender</th>\n",
       "      <th></th>\n",
       "      <th></th>\n",
       "      <th></th>\n",
       "      <th></th>\n",
       "      <th></th>\n",
       "    </tr>\n",
       "  </thead>\n",
       "  <tbody>\n",
       "    <tr>\n",
       "      <th rowspan=\"2\" valign=\"top\">No</th>\n",
       "      <th>FEMALE</th>\n",
       "      <td>3683</td>\n",
       "      <td>47352</td>\n",
       "      <td>4230916.0</td>\n",
       "      <td>1621</td>\n",
       "      <td>225.0</td>\n",
       "    </tr>\n",
       "    <tr>\n",
       "      <th>MALE</th>\n",
       "      <td>6466</td>\n",
       "      <td>56416</td>\n",
       "      <td>4636001.0</td>\n",
       "      <td>1822</td>\n",
       "      <td>194.0</td>\n",
       "    </tr>\n",
       "    <tr>\n",
       "      <th rowspan=\"2\" valign=\"top\">Yes</th>\n",
       "      <th>FEMALE</th>\n",
       "      <td>12442</td>\n",
       "      <td>131024</td>\n",
       "      <td>12492994.0</td>\n",
       "      <td>4352</td>\n",
       "      <td>155.0</td>\n",
       "    </tr>\n",
       "    <tr>\n",
       "      <th>MALE</th>\n",
       "      <td>18189</td>\n",
       "      <td>165264</td>\n",
       "      <td>15117858.0</td>\n",
       "      <td>5424</td>\n",
       "      <td>406.0</td>\n",
       "    </tr>\n",
       "  </tbody>\n",
       "</table>\n",
       "</div>"
      ],
      "text/plain": [
       "                        S.No  Pension Amount  Sanctioned Month   Age  \\\n",
       "Live Pensioner Gender                                                  \n",
       "No             FEMALE   3683           47352         4230916.0  1621   \n",
       "               MALE     6466           56416         4636001.0  1822   \n",
       "Yes            FEMALE  12442          131024        12492994.0  4352   \n",
       "               MALE    18189          165264        15117858.0  5424   \n",
       "\n",
       "                       Disability   \n",
       "Live Pensioner Gender               \n",
       "No             FEMALE        225.0  \n",
       "               MALE          194.0  \n",
       "Yes            FEMALE        155.0  \n",
       "               MALE          406.0  "
      ]
     },
     "execution_count": 33,
     "metadata": {},
     "output_type": "execute_result"
    }
   ],
   "source": [
    "pension[pension['Age']>60].groupby(['Live Pensioner','Gender']).sum()"
   ]
  },
  {
   "cell_type": "code",
   "execution_count": 34,
   "metadata": {
    "scrolled": false
   },
   "outputs": [
    {
     "data": {
      "text/plain": [
       "O.A.P                         152\n",
       "FA To Beedi Workers           134\n",
       "Widow                          96\n",
       "Disabled                       53\n",
       "FA to Single Women Married     16\n",
       "Toddy tapper                    5\n",
       "Weavers                         2\n",
       "Name: Type of Pension, dtype: int64"
      ]
     },
     "execution_count": 34,
     "metadata": {},
     "output_type": "execute_result"
    },
    {
     "data": {
      "image/png": "[encoded data removed]",
      "text/plain": [
       "<Figure size 432x288 with 1 Axes>"
      ]
     },
     "metadata": {
      "needs_background": "light"
     },
     "output_type": "display_data"
    }
   ],
   "source": [
    "pd.value_counts(pension['Type of Pension']).plot.bar()\n",
    "pd.value_counts(pension['Type of Pension'])"
   ]
  },
  {
   "cell_type": "code",
   "execution_count": null,
   "metadata": {},
   "outputs": [],
   "source": []
  }
 ],
 "metadata": {
  "kernelspec": {
   "display_name": "Python 3",
   "language": "python",
   "name": "python3"
  },
  "language_info": {
   "codemirror_mode": {
    "name": "ipython",
    "version": 3
   },
   "file_extension": ".py",
   "mimetype": "text/x-python",
   "name": "python",
   "nbconvert_exporter": "python",
   "pygments_lexer": "ipython3",
   "version": "3.8.3"
  }
 },
 "nbformat": 4,
 "nbformat_minor": 4
}
